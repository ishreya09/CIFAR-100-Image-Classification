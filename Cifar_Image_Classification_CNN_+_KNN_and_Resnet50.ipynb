{
  "nbformat": 4,
  "nbformat_minor": 0,
  "metadata": {
    "colab": {
      "provenance": [],
      "authorship_tag": "ABX9TyPXQ+1/+SIudL7OU3KlQeD7",
      "include_colab_link": true
    },
    "kernelspec": {
      "name": "python3",
      "display_name": "Python 3"
    },
    "language_info": {
      "name": "python"
    }
  },
  "cells": [
    {
      "cell_type": "markdown",
      "metadata": {
        "id": "view-in-github",
        "colab_type": "text"
      },
      "source": [
        "<a href=\"https://colab.research.google.com/github/ishreya09/CIFAR-100-Image-Classification/blob/main/Cifar_Image_Classification_CNN_%2B_KNN_and_Resnet50.ipynb\" target=\"_parent\"><img src=\"https://colab.research.google.com/assets/colab-badge.svg\" alt=\"Open In Colab\"/></a>"
      ]
    },
    {
      "cell_type": "markdown",
      "source": [
        "<!-- Link for collab -->\n",
        "https://colab.research.google.com/drive/1fyhKLE9rd_F6pmX5K8Moh4__dp9wFFD-#scrollTo=eh8YntWPMudE\n"
      ],
      "metadata": {
        "id": "Ab2r8sonYXwy"
      }
    },
    {
      "cell_type": "code",
      "source": [
        "# imports\n",
        "\n",
        "\n",
        "import pandas as pd\n",
        "import numpy as np\n",
        "from PIL import Image\n",
        "import matplotlib.pyplot as plt\n",
        "import tensorflow as tf\n",
        "from sklearn.neighbors import KNeighborsClassifier\n",
        "from sklearn.metrics import accuracy_score"
      ],
      "metadata": {
        "id": "cSXxAGHi9TmO"
      },
      "execution_count": 108,
      "outputs": []
    },
    {
      "cell_type": "code",
      "source": [
        "# Use tensorflow for loading train and test\n",
        "\n",
        "# Load CIFAR-100 dataset\n",
        "(train_images, train_labels), (test_images, test_labels) = tf.keras.datasets.cifar100.load_data()\n",
        "\n",
        "# Print shapes of loaded data\n",
        "print(f\"Train images shape: {train_images.shape}\")\n",
        "print(f\"Train labels shape: {train_labels.shape}\")\n",
        "print(f\"Test images shape: {test_images.shape}\")\n",
        "print(f\"Test labels shape: {test_labels.shape}\")"
      ],
      "metadata": {
        "colab": {
          "base_uri": "https://localhost:8080/"
        },
        "id": "X2R8fk_2DVMp",
        "outputId": "18657e7b-e296-405f-d69d-c010c0e6940f"
      },
      "execution_count": 93,
      "outputs": [
        {
          "output_type": "stream",
          "name": "stdout",
          "text": [
            "Train images shape: (50000, 32, 32, 3)\n",
            "Train labels shape: (50000, 1)\n",
            "Test images shape: (10000, 32, 32, 3)\n",
            "Test labels shape: (10000, 1)\n"
          ]
        }
      ]
    },
    {
      "cell_type": "code",
      "source": [
        "# Convert labels to one-hot encoding\n",
        "num_classes = 100\n",
        "train_labels_one_hot = tf.keras.utils.to_categorical(train_labels, num_classes)\n",
        "test_labels_one_hot = tf.keras.utils.to_categorical(test_labels, num_classes)"
      ],
      "metadata": {
        "id": "3vjt1pFsDfmA"
      },
      "execution_count": 94,
      "outputs": []
    },
    {
      "cell_type": "code",
      "source": [
        "# Print example label before and after one-hot encoding\n",
        "print(f\"Example label before one-hot encoding: {train_labels[0]}\")\n",
        "print(f\"Example label after one-hot encoding: {train_labels_one_hot[0]}\")"
      ],
      "metadata": {
        "colab": {
          "base_uri": "https://localhost:8080/"
        },
        "id": "_bJaJGOrEWYl",
        "outputId": "f27b920a-cfe8-4efe-ffdd-7fdd63be3b82"
      },
      "execution_count": 95,
      "outputs": [
        {
          "output_type": "stream",
          "name": "stdout",
          "text": [
            "Example label before one-hot encoding: [19]\n",
            "Example label after one-hot encoding: [0. 0. 0. 0. 0. 0. 0. 0. 0. 0. 0. 0. 0. 0. 0. 0. 0. 0. 0. 1. 0. 0. 0. 0.\n",
            " 0. 0. 0. 0. 0. 0. 0. 0. 0. 0. 0. 0. 0. 0. 0. 0. 0. 0. 0. 0. 0. 0. 0. 0.\n",
            " 0. 0. 0. 0. 0. 0. 0. 0. 0. 0. 0. 0. 0. 0. 0. 0. 0. 0. 0. 0. 0. 0. 0. 0.\n",
            " 0. 0. 0. 0. 0. 0. 0. 0. 0. 0. 0. 0. 0. 0. 0. 0. 0. 0. 0. 0. 0. 0. 0. 0.\n",
            " 0. 0. 0. 0.]\n"
          ]
        }
      ]
    },
    {
      "cell_type": "code",
      "source": [
        "fine_label = ['apple', 'aquarium_fish', 'baby', 'bear', 'beaver', 'bed', 'bee', 'beetle', 'bicycle', 'bottle', 'bowl', 'boy', 'bridge', 'bus', 'butterfly', 'camel', 'can', 'castle', 'caterpillar', 'cattle', 'chair', 'chimpanzee', 'clock', 'cloud', 'cockroach', 'couch', 'cra', 'crocodile', 'cup', 'dinosaur', 'dolphin', 'elephant', 'flatfish', 'forest', 'fox', 'girl', 'hamster', 'house', 'kangaroo', 'keyboard', 'lamp', 'lawn_mower', 'leopard', 'lion', 'lizard', 'lobster', 'man', 'maple_tree', 'motorcycle', 'mountain', 'mouse', 'mushroom', 'oak_tree', 'orange', 'orchid', 'otter', 'palm_tree', 'pear', 'pickup_truck', 'pine_tree', 'plain', 'plate', 'poppy', 'porcupine', 'possum', 'rabbit', 'raccoon', 'ray', 'road', 'rocket', 'rose', 'sea', 'seal', 'shark', 'shrew', 'skunk', 'skyscraper', 'snail', 'snake', 'spider', 'squirrel', 'streetcar', 'sunflower', 'sweet_pepper', 'table', 'tank', 'telephone', 'television', 'tiger', 'tractor', 'train', 'trout', 'tulip', 'turtle', 'wardrobe', 'whale', 'willow_tree', 'wolf', 'woman', 'worm']"
      ],
      "metadata": {
        "id": "3KrlfIa7EaMd"
      },
      "execution_count": 96,
      "outputs": []
    },
    {
      "cell_type": "code",
      "source": [
        "# make mapping\n",
        "MapToFine= {}\n",
        "\n",
        "for i in range(len(fine_label)):\n",
        "    MapToFine[i]= fine_label[i]\n",
        "\n",
        "print(MapToFine)"
      ],
      "metadata": {
        "colab": {
          "base_uri": "https://localhost:8080/"
        },
        "id": "UfQGBxVxFz7c",
        "outputId": "2ebbd188-4e55-4bc4-cad7-7275b45ede81"
      },
      "execution_count": 97,
      "outputs": [
        {
          "output_type": "stream",
          "name": "stdout",
          "text": [
            "{0: 'apple', 1: 'aquarium_fish', 2: 'baby', 3: 'bear', 4: 'beaver', 5: 'bed', 6: 'bee', 7: 'beetle', 8: 'bicycle', 9: 'bottle', 10: 'bowl', 11: 'boy', 12: 'bridge', 13: 'bus', 14: 'butterfly', 15: 'camel', 16: 'can', 17: 'castle', 18: 'caterpillar', 19: 'cattle', 20: 'chair', 21: 'chimpanzee', 22: 'clock', 23: 'cloud', 24: 'cockroach', 25: 'couch', 26: 'cra', 27: 'crocodile', 28: 'cup', 29: 'dinosaur', 30: 'dolphin', 31: 'elephant', 32: 'flatfish', 33: 'forest', 34: 'fox', 35: 'girl', 36: 'hamster', 37: 'house', 38: 'kangaroo', 39: 'keyboard', 40: 'lamp', 41: 'lawn_mower', 42: 'leopard', 43: 'lion', 44: 'lizard', 45: 'lobster', 46: 'man', 47: 'maple_tree', 48: 'motorcycle', 49: 'mountain', 50: 'mouse', 51: 'mushroom', 52: 'oak_tree', 53: 'orange', 54: 'orchid', 55: 'otter', 56: 'palm_tree', 57: 'pear', 58: 'pickup_truck', 59: 'pine_tree', 60: 'plain', 61: 'plate', 62: 'poppy', 63: 'porcupine', 64: 'possum', 65: 'rabbit', 66: 'raccoon', 67: 'ray', 68: 'road', 69: 'rocket', 70: 'rose', 71: 'sea', 72: 'seal', 73: 'shark', 74: 'shrew', 75: 'skunk', 76: 'skyscraper', 77: 'snail', 78: 'snake', 79: 'spider', 80: 'squirrel', 81: 'streetcar', 82: 'sunflower', 83: 'sweet_pepper', 84: 'table', 85: 'tank', 86: 'telephone', 87: 'television', 88: 'tiger', 89: 'tractor', 90: 'train', 91: 'trout', 92: 'tulip', 93: 'turtle', 94: 'wardrobe', 95: 'whale', 96: 'willow_tree', 97: 'wolf', 98: 'woman', 99: 'worm'}\n"
          ]
        }
      ]
    },
    {
      "cell_type": "code",
      "source": [
        "from tensorflow.keras import layers,models\n",
        "\n",
        "# Normalize\n",
        "train_images = train_images/255.0\n",
        "test_images = test_images/255.0"
      ],
      "metadata": {
        "id": "WETaWnJ3GRQj"
      },
      "execution_count": 99,
      "outputs": []
    },
    {
      "cell_type": "markdown",
      "source": [
        "# model using CNN and KNN"
      ],
      "metadata": {
        "id": "jUHQYGrSMmg9"
      }
    },
    {
      "cell_type": "code",
      "source": [
        "model = models.Sequential([\n",
        "    layers.Conv2D(32, (3, 3), activation='relu', input_shape=(32, 32, 3)),\n",
        "    layers.MaxPooling2D((2, 2)),\n",
        "    layers.Conv2D(64, (3, 3), activation='relu'),\n",
        "    layers.MaxPooling2D((2, 2)),\n",
        "    layers.Conv2D(64, (3, 3), activation='relu'),\n",
        "    layers.MaxPooling2D((2, 2)),\n",
        "    layers.Flatten(),\n",
        "    layers.Dense(256, activation='relu'),\n",
        "    layers.Dense(256, activation='relu'),\n",
        "    layers.Dense(100, activation='softmax')  # 100 classes in CIFAR-100\n",
        "])\n",
        "\n",
        "# Compile the model\n",
        "model.compile(\n",
        "    optimizer='adam',\n",
        "    loss='sparse_categorical_crossentropy',\n",
        "    metrics=['accuracy']\n",
        ")\n",
        "\n",
        "model.summary()"
      ],
      "metadata": {
        "colab": {
          "base_uri": "https://localhost:8080/"
        },
        "id": "S5FM25ApG0Es",
        "outputId": "22cf9da5-5c24-4b10-c114-a9cec34e3ebc"
      },
      "execution_count": 134,
      "outputs": [
        {
          "output_type": "stream",
          "name": "stdout",
          "text": [
            "Model: \"sequential_26\"\n",
            "_________________________________________________________________\n",
            " Layer (type)                Output Shape              Param #   \n",
            "=================================================================\n",
            " conv2d_53 (Conv2D)          (None, 30, 30, 32)        896       \n",
            "                                                                 \n",
            " max_pooling2d_45 (MaxPooli  (None, 15, 15, 32)        0         \n",
            " ng2D)                                                           \n",
            "                                                                 \n",
            " conv2d_54 (Conv2D)          (None, 13, 13, 64)        18496     \n",
            "                                                                 \n",
            " max_pooling2d_46 (MaxPooli  (None, 6, 6, 64)          0         \n",
            " ng2D)                                                           \n",
            "                                                                 \n",
            " conv2d_55 (Conv2D)          (None, 4, 4, 64)          36928     \n",
            "                                                                 \n",
            " max_pooling2d_47 (MaxPooli  (None, 2, 2, 64)          0         \n",
            " ng2D)                                                           \n",
            "                                                                 \n",
            " flatten_16 (Flatten)        (None, 256)               0         \n",
            "                                                                 \n",
            " dense_57 (Dense)            (None, 256)               65792     \n",
            "                                                                 \n",
            " dense_58 (Dense)            (None, 256)               65792     \n",
            "                                                                 \n",
            " dense_59 (Dense)            (None, 100)               25700     \n",
            "                                                                 \n",
            "=================================================================\n",
            "Total params: 213604 (834.39 KB)\n",
            "Trainable params: 213604 (834.39 KB)\n",
            "Non-trainable params: 0 (0.00 Byte)\n",
            "_________________________________________________________________\n"
          ]
        }
      ]
    },
    {
      "cell_type": "code",
      "source": [
        "# Train the model\n",
        "history = model.fit(train_images, train_labels, epochs=100,batch_size=32, validation_split=0.2)\n",
        "\n",
        "# Evaluate the model\n",
        "test_loss, test_acc = model.evaluate(test_images, test_labels, verbose=2)\n",
        "print(f\"Test accuracy: {test_acc}\")\n",
        "\n",
        "# Plot training history\n",
        "plt.plot(history.history['accuracy'], label='accuracy')\n",
        "plt.plot(history.history['val_accuracy'], label='val_accuracy')\n",
        "plt.xlabel('Epoch')\n",
        "plt.ylabel('Accuracy')\n",
        "plt.ylim([0, 1])\n",
        "plt.legend(loc='lower right')\n",
        "plt.show()"
      ],
      "metadata": {
        "colab": {
          "base_uri": "https://localhost:8080/",
          "height": 693
        },
        "id": "C9x92EYIIRKY",
        "outputId": "d5e69948-2a15-4b71-c2d8-3fbe67508de4"
      },
      "execution_count": 135,
      "outputs": [
        {
          "output_type": "stream",
          "name": "stdout",
          "text": [
            "Epoch 1/5\n",
            "1250/1250 [==============================] - 52s 40ms/step - loss: 4.0206 - accuracy: 0.0753 - val_loss: 3.6338 - val_accuracy: 0.1356\n",
            "Epoch 2/5\n",
            "1250/1250 [==============================] - 50s 40ms/step - loss: 3.3917 - accuracy: 0.1799 - val_loss: 3.2594 - val_accuracy: 0.2018\n",
            "Epoch 3/5\n",
            "1250/1250 [==============================] - 48s 38ms/step - loss: 3.0648 - accuracy: 0.2397 - val_loss: 2.9939 - val_accuracy: 0.2595\n",
            "Epoch 4/5\n",
            "1250/1250 [==============================] - 50s 40ms/step - loss: 2.8469 - accuracy: 0.2824 - val_loss: 2.9301 - val_accuracy: 0.2748\n",
            "Epoch 5/5\n",
            "1250/1250 [==============================] - 50s 40ms/step - loss: 2.6888 - accuracy: 0.3134 - val_loss: 2.8036 - val_accuracy: 0.2969\n",
            "313/313 - 3s - loss: 2.7591 - accuracy: 0.3044 - 3s/epoch - 10ms/step\n",
            "Test accuracy: 0.3043999969959259\n"
          ]
        },
        {
          "output_type": "display_data",
          "data": {
            "text/plain": [
              "<Figure size 640x480 with 1 Axes>"
            ],
            "image/png": "[encoded data removed]"
          },
          "metadata": {}
        }
      ]
    },
    {
      "cell_type": "code",
      "source": [
        "# Extract features from the last dense layer\n",
        "dense_features_model = models.Model(inputs=model.input, outputs=model.layers[-2].output)\n",
        "train_features = dense_features_model.predict(train_images)\n",
        "test_features = dense_features_model.predict(test_images)\n",
        "\n",
        "knn_classifier = KNeighborsClassifier(n_neighbors=100)\n",
        "\n",
        "# Fit k-NN classifier on extracted features\n",
        "knn_classifier.fit(train_features, train_labels)\n"
      ],
      "metadata": {
        "colab": {
          "base_uri": "https://localhost:8080/",
          "height": 167
        },
        "id": "N8mlpomfKQu1",
        "outputId": "ecf020a4-77ed-4b43-ce9b-a646730ba4a0"
      },
      "execution_count": 136,
      "outputs": [
        {
          "output_type": "stream",
          "name": "stdout",
          "text": [
            "1563/1563 [==============================] - 17s 11ms/step\n",
            "313/313 [==============================] - 3s 10ms/step\n"
          ]
        },
        {
          "output_type": "stream",
          "name": "stderr",
          "text": [
            "/usr/local/lib/python3.10/dist-packages/sklearn/neighbors/_classification.py:215: DataConversionWarning: A column-vector y was passed when a 1d array was expected. Please change the shape of y to (n_samples,), for example using ravel().\n",
            "  return self._fit(X, y)\n"
          ]
        },
        {
          "output_type": "execute_result",
          "data": {
            "text/plain": [
              "KNeighborsClassifier(n_neighbors=100)"
            ],
            "text/html": [
              "<style>#sk-container-id-1 {color: black;background-color: white;}#sk-container-id-1 pre{padding: 0;}#sk-container-id-1 div.sk-toggleable {background-color: white;}#sk-container-id-1 label.sk-toggleable__label {cursor: pointer;display: block;width: 100%;margin-bottom: 0;padding: 0.3em;box-sizing: border-box;text-align: center;}#sk-container-id-1 label.sk-toggleable__label-arrow:before {content: \"▸\";float: left;margin-right: 0.25em;color: #696969;}#sk-container-id-1 label.sk-toggleable__label-arrow:hover:before {color: black;}#sk-container-id-1 div.sk-estimator:hover label.sk-toggleable__label-arrow:before {color: black;}#sk-container-id-1 div.sk-toggleable__content {max-height: 0;max-width: 0;overflow: hidden;text-align: left;background-color: #f0f8ff;}#sk-container-id-1 div.sk-toggleable__content pre {margin: 0.2em;color: black;border-radius: 0.25em;background-color: #f0f8ff;}#sk-container-id-1 input.sk-toggleable__control:checked~div.sk-toggleable__content {max-height: 200px;max-width: 100%;overflow: auto;}#sk-container-id-1 input.sk-toggleable__control:checked~label.sk-toggleable__label-arrow:before {content: \"▾\";}#sk-container-id-1 div.sk-estimator input.sk-toggleable__control:checked~label.sk-toggleable__label {background-color: #d4ebff;}#sk-container-id-1 div.sk-label input.sk-toggleable__control:checked~label.sk-toggleable__label {background-color: #d4ebff;}#sk-container-id-1 input.sk-hidden--visually {border: 0;clip: rect(1px 1px 1px 1px);clip: rect(1px, 1px, 1px, 1px);height: 1px;margin: -1px;overflow: hidden;padding: 0;position: absolute;width: 1px;}#sk-container-id-1 div.sk-estimator {font-family: monospace;background-color: #f0f8ff;border: 1px dotted black;border-radius: 0.25em;box-sizing: border-box;margin-bottom: 0.5em;}#sk-container-id-1 div.sk-estimator:hover {background-color: #d4ebff;}#sk-container-id-1 div.sk-parallel-item::after {content: \"\";width: 100%;border-bottom: 1px solid gray;flex-grow: 1;}#sk-container-id-1 div.sk-label:hover label.sk-toggleable__label {background-color: #d4ebff;}#sk-container-id-1 div.sk-serial::before {content: \"\";position: absolute;border-left: 1px solid gray;box-sizing: border-box;top: 0;bottom: 0;left: 50%;z-index: 0;}#sk-container-id-1 div.sk-serial {display: flex;flex-direction: column;align-items: center;background-color: white;padding-right: 0.2em;padding-left: 0.2em;position: relative;}#sk-container-id-1 div.sk-item {position: relative;z-index: 1;}#sk-container-id-1 div.sk-parallel {display: flex;align-items: stretch;justify-content: center;background-color: white;position: relative;}#sk-container-id-1 div.sk-item::before, #sk-container-id-1 div.sk-parallel-item::before {content: \"\";position: absolute;border-left: 1px solid gray;box-sizing: border-box;top: 0;bottom: 0;left: 50%;z-index: -1;}#sk-container-id-1 div.sk-parallel-item {display: flex;flex-direction: column;z-index: 1;position: relative;background-color: white;}#sk-container-id-1 div.sk-parallel-item:first-child::after {align-self: flex-end;width: 50%;}#sk-container-id-1 div.sk-parallel-item:last-child::after {align-self: flex-start;width: 50%;}#sk-container-id-1 div.sk-parallel-item:only-child::after {width: 0;}#sk-container-id-1 div.sk-dashed-wrapped {border: 1px dashed gray;margin: 0 0.4em 0.5em 0.4em;box-sizing: border-box;padding-bottom: 0.4em;background-color: white;}#sk-container-id-1 div.sk-label label {font-family: monospace;font-weight: bold;display: inline-block;line-height: 1.2em;}#sk-container-id-1 div.sk-label-container {text-align: center;}#sk-container-id-1 div.sk-container {/* jupyter's `normalize.less` sets `[hidden] { display: none; }` but bootstrap.min.css set `[hidden] { display: none !important; }` so we also need the `!important` here to be able to override the default hidden behavior on the sphinx rendered scikit-learn.org. See: https://github.com/scikit-learn/scikit-learn/issues/21755 */display: inline-block !important;position: relative;}#sk-container-id-1 div.sk-text-repr-fallback {display: none;}</style><div id=\"sk-container-id-1\" class=\"sk-top-container\"><div class=\"sk-text-repr-fallback\"><pre>KNeighborsClassifier(n_neighbors=100)</pre><b>In a Jupyter environment, please rerun this cell to show the HTML representation or trust the notebook. <br />On GitHub, the HTML representation is unable to render, please try loading this page with nbviewer.org.</b></div><div class=\"sk-container\" hidden><div class=\"sk-item\"><div class=\"sk-estimator sk-toggleable\"><input class=\"sk-toggleable__control sk-hidden--visually\" id=\"sk-estimator-id-1\" type=\"checkbox\" checked><label for=\"sk-estimator-id-1\" class=\"sk-toggleable__label sk-toggleable__label-arrow\">KNeighborsClassifier</label><div class=\"sk-toggleable__content\"><pre>KNeighborsClassifier(n_neighbors=100)</pre></div></div></div></div></div>"
            ]
          },
          "metadata": {},
          "execution_count": 136
        }
      ]
    },
    {
      "cell_type": "code",
      "source": [
        "# Predict using k-NN\n",
        "test_predictions = knn_classifier.predict(test_features)\n",
        "\n",
        "# Evaluate accuracy\n",
        "accuracy = accuracy_score(test_labels, test_predictions)\n",
        "print(f\"Accuracy using k-NN: {accuracy:.4f}\")"
      ],
      "metadata": {
        "colab": {
          "base_uri": "https://localhost:8080/"
        },
        "id": "3rCD0OVELHmR",
        "outputId": "5b7a38f4-a351-4949-91dd-1992a0a0d6d0"
      },
      "execution_count": 137,
      "outputs": [
        {
          "output_type": "stream",
          "name": "stdout",
          "text": [
            "Accuracy using k-NN: 0.3023\n"
          ]
        }
      ]
    },
    {
      "cell_type": "code",
      "source": [
        "# make elbow plot for knn"
      ],
      "metadata": {
        "id": "VwdKyKUQUjZX"
      },
      "execution_count": null,
      "outputs": []
    },
    {
      "cell_type": "code",
      "source": [
        "model.save(\"CnnKnnModel.h5\")"
      ],
      "metadata": {
        "id": "Yz_GuxasOfCy"
      },
      "execution_count": null,
      "outputs": []
    },
    {
      "cell_type": "markdown",
      "source": [
        "# Using Resnet50\n",
        "\n",
        "ResNet stands for Residual Network.\n",
        "50 in the name refers to the number of layers in the network (specifically, 48 convolutional layers, one MaxPool layer, and one average pool layer).\n",
        "\n",
        "\n",
        "#### Key Characteristics of ResNet-50:\n",
        "1. Shortcut Connections (Skip Connections):\n",
        "        ResNet introduces shortcut connections that “skip over” some layers.\n",
        "        These connections allow gradients to flow directly through the network, addressing the vanishing gradient problem.\n",
        "        Shortcut connections convert a regular network into a residual network.\n",
        "2. Bottleneck Design:\n",
        "        ResNet-50 uses a bottleneck design for its building blocks.\n",
        "        A bottleneck residual block includes 1x1 convolutions (known as a “bottleneck”) to reduce the number of parameters and matrix multiplications.\n",
        "        This design enables faster training of each layer.\n",
        "3. Stacked Layers:\n",
        "        ResNet-50 stacks multiple layers to form the final neural network.\n",
        "        It includes a stack of three layers instead of two, which further enhances its expressiveness.\n",
        "\n",
        "\n",
        "## ResNet-50 Architecture:\n",
        "The architecture includes:\n",
        "        A 7x7 kernel convolution with 64 filters and a 2-sized stride.\n",
        "        A max pooling layer with a 2-sized stride.\n",
        "        Multiple layers with different kernel sizes and filter counts (1x1, 3x3, and 1x1).\n",
        "        Bottleneck blocks with 1x1, 3x3, and 1x1 convolutions.\n",
        "        Iterations of these layers to form the complete ResNet-50.\n"
      ],
      "metadata": {
        "id": "eh8YntWPMudE"
      }
    },
    {
      "cell_type": "code",
      "source": [
        "import tensorflow as tf\n",
        "import tensorflow_hub as hub\n",
        "import numpy as np\n",
        "\n",
        "# Load the pre-trained ResNet-50 model from TensorFlow Hub\n",
        "resnet50_model = hub.KerasLayer(\"https://tfhub.dev/google/imagenet/resnet_v2_50/feature_vector/4\", trainable=False)\n"
      ],
      "metadata": {
        "id": "JGoCy1B3Mlbg"
      },
      "execution_count": 138,
      "outputs": []
    },
    {
      "cell_type": "code",
      "source": [
        "\n",
        "input_image = np.random.rand(1, 32, 32, 3)\n",
        "embeddings = resnet50_model(input_image)\n",
        "print(embeddings.shape)"
      ],
      "metadata": {
        "colab": {
          "base_uri": "https://localhost:8080/"
        },
        "id": "VLFtI5oSN-b1",
        "outputId": "cb873941-864c-49e3-832e-ce6a4f1bf48b"
      },
      "execution_count": 122,
      "outputs": [
        {
          "output_type": "stream",
          "name": "stdout",
          "text": [
            "(1, 2048)\n"
          ]
        }
      ]
    },
    {
      "cell_type": "code",
      "source": [
        "# Compile the model\n",
        "model = tf.keras.Sequential([\n",
        "    resnet50_model,\n",
        "    layers.Dense(64,activation='relu'),\n",
        "    layers.Dense(100, activation='softmax')  # 100 classes in your custom dataset\n",
        "])\n",
        "\n",
        "model.compile(optimizer='adam',\n",
        "              loss='sparse_categorical_crossentropy',\n",
        "              metrics=['accuracy'])\n",
        "\n",
        "model.build(input_shape=(1, 32, 32, 3))\n",
        "model.summary()"
      ],
      "metadata": {
        "colab": {
          "base_uri": "https://localhost:8080/"
        },
        "id": "8fwtCP54N_PN",
        "outputId": "2a22f91d-51a0-41ca-a062-3d32835d2d27"
      },
      "execution_count": 139,
      "outputs": [
        {
          "output_type": "stream",
          "name": "stdout",
          "text": [
            "Model: \"sequential_27\"\n",
            "_________________________________________________________________\n",
            " Layer (type)                Output Shape              Param #   \n",
            "=================================================================\n",
            " keras_layer_1 (KerasLayer)  (1, 2048)                 23564800  \n",
            "                                                                 \n",
            " dense_60 (Dense)            (1, 64)                   131136    \n",
            "                                                                 \n",
            " dense_61 (Dense)            (1, 100)                  6500      \n",
            "                                                                 \n",
            "=================================================================\n",
            "Total params: 23702436 (90.42 MB)\n",
            "Trainable params: 137636 (537.64 KB)\n",
            "Non-trainable params: 23564800 (89.89 MB)\n",
            "_________________________________________________________________\n"
          ]
        }
      ]
    },
    {
      "cell_type": "code",
      "source": [
        "\n",
        "# Train the model\n",
        "history= model.fit(train_images, train_labels, epochs=10, batch_size=32, validation_split=0.2)\n",
        "\n",
        "# Evaluate the model\n",
        "test_loss, test_acc = model.evaluate(test_images, test_labels, verbose=2)\n",
        "print(f\"Test accuracy: {test_acc}\")\n",
        "\n",
        "# Plot training history\n",
        "plt.plot(history.history['accuracy'], label='accuracy')\n",
        "plt.plot(history.history['val_accuracy'], label='val_accuracy')\n",
        "plt.xlabel('Epoch')\n",
        "plt.ylabel('Accuracy')\n",
        "plt.ylim([0, 1])\n",
        "plt.legend(loc='lower right')\n",
        "plt.show()"
      ],
      "metadata": {
        "colab": {
          "base_uri": "https://localhost:8080/",
          "height": 875
        },
        "id": "DcC_tp6_PGrG",
        "outputId": "953aa9d6-9f83-4d79-a5c3-ad630a19faad"
      },
      "execution_count": 140,
      "outputs": [
        {
          "metadata": {
            "tags": null
          },
          "name": "stdout",
          "output_type": "stream",
          "text": [
            "Epoch 1/10\n",
            "1250/1250 [==============================] - 180s 140ms/step - loss: 3.8213 - accuracy: 0.1522 - val_loss: 3.4904 - val_accuracy: 0.1938\n",
            "Epoch 2/10\n",
            "1250/1250 [==============================] - 173s 138ms/step - loss: 3.2136 - accuracy: 0.2423 - val_loss: 3.3796 - val_accuracy: 0.2125\n",
            "Epoch 3/10\n",
            "1250/1250 [==============================] - 174s 139ms/step - loss: 2.9687 - accuracy: 0.2828 - val_loss: 3.3535 - val_accuracy: 0.2176\n",
            "Epoch 4/10\n",
            "1250/1250 [==============================] - 180s 144ms/step - loss: 2.8039 - accuracy: 0.3165 - val_loss: 3.3986 - val_accuracy: 0.2206\n",
            "Epoch 5/10\n",
            "1250/1250 [==============================] - 173s 139ms/step - loss: 2.6718 - accuracy: 0.3416 - val_loss: 3.4474 - val_accuracy: 0.2177\n",
            "Epoch 6/10\n",
            "1250/1250 [==============================] - 173s 138ms/step - loss: 2.5633 - accuracy: 0.3661 - val_loss: 3.5115 - val_accuracy: 0.2178\n",
            "Epoch 7/10\n",
            "1250/1250 [==============================] - 173s 138ms/step - loss: 2.4696 - accuracy: 0.3842 - val_loss: 3.5934 - val_accuracy: 0.2149\n",
            "Epoch 8/10\n",
            "1250/1250 [==============================] - 163s 130ms/step - loss: 2.3920 - accuracy: 0.4040 - val_loss: 3.6662 - val_accuracy: 0.2137\n",
            "Epoch 9/10\n",
            "1250/1250 [==============================] - 174s 139ms/step - loss: 2.3216 - accuracy: 0.4207 - val_loss: 3.7405 - val_accuracy: 0.2128\n",
            "Epoch 10/10\n",
            "1250/1250 [==============================] - 183s 146ms/step - loss: 2.2596 - accuracy: 0.4365 - val_loss: 3.8226 - val_accuracy: 0.2135\n",
            "313/313 - 32s - loss: 3.8156 - accuracy: 0.2180 - 32s/epoch - 101ms/step\n",
            "Test accuracy: 0.21799999475479126\n"
          ]
        },
        {
          "data": {
            "image/png": "[encoded data removed]",
            "text/plain": [
              "<Figure size 640x480 with 1 Axes>"
            ]
          },
          "metadata": {},
          "output_type": "display_data"
        }
      ]
    },
    {
      "cell_type": "code",
      "source": [],
      "metadata": {
        "id": "kNDuM2tPSJCy"
      },
      "execution_count": null,
      "outputs": []
    }
  ]
}